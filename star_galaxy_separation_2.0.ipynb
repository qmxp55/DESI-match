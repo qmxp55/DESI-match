{
 "cells": [
  {
   "cell_type": "code",
   "execution_count": 1,
   "metadata": {},
   "outputs": [],
   "source": [
    "%matplotlib inline\n",
    "#from __future__ import division, print_function\n",
    "#import sys\n",
    "import numpy as np\n",
    "from astropy.table import Table\n",
    "import matplotlib.pyplot as plt\n",
    "#from astropy.coordinates import SkyCoord\n",
    "from matplotlib.ticker import NullFormatter\n",
    "#from astropy import units as u\n",
    "import fitsio\n",
    "import pandas as pd\n",
    "from astropy.io import ascii\n",
    "#from astropy.coordinates import SkyCoord\n",
    "import sys, os, time, argparse, glob\n",
    "#import matplotlib.patches as patches\n",
    "import warnings; warnings.simplefilter('ignore')\n",
    "\n",
    "#from desitarget.targetmask import desi_mask\n",
    "from matplotlib_venn import venn2, venn2_circles\n",
    "from matplotlib_venn import venn3, venn3_circles\n",
    "#from pyvenn import venn\n",
    "#from matplotlib_chord_diagram import matplotlib_chord\n",
    "\n",
    "from desitarget.targetmask import desi_mask, bgs_mask\n",
    "from main_def import cut_sweeps, cut, load_cat_caseA, load_cat_caseB, load_cat_caseC, load_cat_caseD, get_mag_decals, MASK, unextinct_fluxes, flux_to_mag, matrix_plot, bar_plot, venn_plot, target_con"
   ]
  },
  {
   "cell_type": "markdown",
   "metadata": {},
   "source": [
    "# Star- Galaxy separation Conditions\n",
    "\n",
    "Starting point from SWEEPS:\n",
    "\n",
    "* (200 < RA < 230)   &   (-2 < DEC < 5) --> 200 s.q degrees --> 18960357\n",
    "* (r < 20) & (Grr > 0.6) | (gaiagmag == 0) --> 356741\n",
    "\n",
    "\n",
    "Star-Galaxy separation cuts:\n",
    "\n",
    "* nobs_r > 0\n",
    "* fracmasked_r < 0.4 \n",
    "* fracflux_r < 5\n",
    "* fracin_r > 0.3\n",
    "* flux_ivar_r > 0\n",
    "* -1 < g-r < 4\n",
    "* -1 < r-z < 4\n",
    "* BRIGHTSTARINBLOB\n",
    "\n",
    "Total targets for case D: 312430\n",
    "\n",
    "Total dropped out for case D: 44311"
   ]
  },
  {
   "cell_type": "code",
   "execution_count": 2,
   "metadata": {},
   "outputs": [
    {
     "data": {
      "text/plain": [
       "44311"
      ]
     },
     "execution_count": 2,
     "metadata": {},
     "output_type": "execute_result"
    }
   ],
   "source": [
    "356741 - 312430"
   ]
  },
  {
   "cell_type": "markdown",
   "metadata": {},
   "source": [
    "### Loading and applying conditions"
   ]
  },
  {
   "cell_type": "code",
   "execution_count": 3,
   "metadata": {},
   "outputs": [
    {
     "name": "stdout",
     "output_type": "stream",
     "text": [
      "sweep-200m005-210p000 1688738\n",
      "sweep-200p000-210p005 4086987\n",
      "sweep-210m005-220p000 1739258\n",
      "sweep-210p000-220p005 4353884\n",
      "sweep-220m005-230p000 2276054\n",
      "sweep-220p000-230p005 4815436\n",
      "Bricks that matched: 6\n",
      "Sample region # objects: 18960357\n"
     ]
    }
   ],
   "source": [
    "sweep_dir = os.path.join('/global/project/projectdirs/cosmo/data/legacysurvey/','dr7', 'sweep', '7.1')\n",
    "catS = cut_sweeps(200, 230, -2,5, sweep_dir)\n",
    "\n",
    "columns0 = ['RA', 'DEC', 'DESI_TARGET', 'BGS_TARGET']\n",
    "catT = fitsio.read('targets-dr7.1-0.23.0.fits', columns=columns0, ext=1)\n",
    "catT = cut(200, 230, -2,5, catT)"
   ]
  },
  {
   "cell_type": "code",
   "execution_count": 4,
   "metadata": {},
   "outputs": [
    {
     "name": "stdout",
     "output_type": "stream",
     "text": [
      "Lenght raw catalogue: 18960357\n",
      "Lenght DR7 sample within r <= 20: 1030591\n",
      "Lenght DR7 sample after cuts 887231\n",
      "adding desitarget and bgstarget column to catalogue...\n",
      "catS: 18960357\n",
      "catT: 1557493\n",
      "Matching...\n",
      "len idx: 1557493\n",
      "d2d != 0 0\n",
      "adding Grr column to catalogue...\n"
     ]
    }
   ],
   "source": [
    "cat, catr, cat0, matrix_in, matrix_out, mask_list_MAG, dropped = load_cat_caseA(catS, catT, FILE=False, desitarget=True)"
   ]
  },
  {
   "cell_type": "markdown",
   "metadata": {},
   "source": [
    "gmag, rmag, zmag, w1mag, Gmag, rr = get_mag_decals(cat)\n",
    "Grr = cat['Grr'] #Gmag - rr  #rr is without extinction correction\n",
    "Gmag = cat['GAIA_PHOT_G_MEAN_MAG']\n",
    "\n",
    "mask_wise = np.logical_and(Grr < 0.4, Grr > -1)\n",
    "mask_wise &= zmag - w1mag - (gmag - rmag) > -0.5\n",
    "mask_wise &= cat['FLUX_W1']*np.sqrt(cat['FLUX_IVAR_W1']) > 5\n",
    "cat_wise = cat[mask_wise]\n",
    "\n",
    "cat_mag = cat[(Grr > 0.6) | (Gmag == 0)]\n",
    "del gmag, rmag, zmag, w1mag, Gmag, rr\n",
    "gmag, rmag, zmag, w1mag, Gmag, rr = get_mag_decals(cat_mag)\n",
    "\n",
    "flux = unextinct_fluxes(cat_mag)\n",
    "\n",
    "#cat_bgs = np.concatenate((cat[Grr > 0.6], cat[Gmag == 0]))\n",
    "\n",
    "print('#BGS PREV: FLUX = %d, MAG = %d' %(len(cat0[MASK(cat0, 'BGS_PREV')]), len(cat)))\n",
    "print('=====================')\n",
    "print('#BGS FAINT: FLUX = %d, MAG = %d' %(len(cat0[MASK(cat0, 'BGS_FAINT')]), len(cat_mag[np.logical_and(flux['RFLUX'] <= 10**((22.5-19.5)/2.5), flux['RFLUX'] > 10**((22.5-20.0)/2.5))])))\n",
    "print('#BGS BRIGHT: FLUX = %d, MAG = %d' %(len(cat0[MASK(cat0, 'BGS_BRIGHT')]), len(cat_mag[flux_to_mag(flux['RFLUX']) < 19.5])))\n",
    "print('#BGS WISE: FLUX = %d, MAG = %d' %(len(cat0[MASK(cat0, 'BGS_WISE')]), len(cat_wise)))"
   ]
  },
  {
   "cell_type": "code",
   "execution_count": 5,
   "metadata": {},
   "outputs": [
    {
     "data": {
      "text/html": [
       "<div>\n",
       "<style scoped>\n",
       "    .dataframe tbody tr th:only-of-type {\n",
       "        vertical-align: middle;\n",
       "    }\n",
       "\n",
       "    .dataframe tbody tr th {\n",
       "        vertical-align: top;\n",
       "    }\n",
       "\n",
       "    .dataframe thead th {\n",
       "        text-align: right;\n",
       "    }\n",
       "</style>\n",
       "<table border=\"1\" class=\"dataframe\">\n",
       "  <thead>\n",
       "    <tr style=\"text-align: right;\">\n",
       "      <th></th>\n",
       "      <th>drop_r</th>\n",
       "      <th>drop_r_per</th>\n",
       "      <th>PSF_r_per</th>\n",
       "      <th>NOPSF_r_per</th>\n",
       "    </tr>\n",
       "  </thead>\n",
       "  <tbody>\n",
       "    <tr>\n",
       "      <th>maskNOBS</th>\n",
       "      <td>1288.0</td>\n",
       "      <td>0.124977</td>\n",
       "      <td>62.422360</td>\n",
       "      <td>37.577640</td>\n",
       "    </tr>\n",
       "    <tr>\n",
       "      <th>maskMAG</th>\n",
       "      <td>0.0</td>\n",
       "      <td>0.000000</td>\n",
       "      <td>0.000000</td>\n",
       "      <td>0.000000</td>\n",
       "    </tr>\n",
       "    <tr>\n",
       "      <th>maskFRACMASKED</th>\n",
       "      <td>97763.0</td>\n",
       "      <td>9.486110</td>\n",
       "      <td>87.121917</td>\n",
       "      <td>12.878083</td>\n",
       "    </tr>\n",
       "    <tr>\n",
       "      <th>maskFRACFLUX</th>\n",
       "      <td>31655.0</td>\n",
       "      <td>3.071539</td>\n",
       "      <td>6.760385</td>\n",
       "      <td>93.239615</td>\n",
       "    </tr>\n",
       "    <tr>\n",
       "      <th>maskFRACIN</th>\n",
       "      <td>20423.0</td>\n",
       "      <td>1.981678</td>\n",
       "      <td>4.573275</td>\n",
       "      <td>95.426725</td>\n",
       "    </tr>\n",
       "    <tr>\n",
       "      <th>maskFLUX_IVAR</th>\n",
       "      <td>512.0</td>\n",
       "      <td>0.049680</td>\n",
       "      <td>72.460938</td>\n",
       "      <td>27.539062</td>\n",
       "    </tr>\n",
       "    <tr>\n",
       "      <th>mask_gr</th>\n",
       "      <td>4061.0</td>\n",
       "      <td>0.394046</td>\n",
       "      <td>29.967988</td>\n",
       "      <td>70.032012</td>\n",
       "    </tr>\n",
       "    <tr>\n",
       "      <th>mask_rz</th>\n",
       "      <td>5830.0</td>\n",
       "      <td>0.565695</td>\n",
       "      <td>39.365352</td>\n",
       "      <td>60.634648</td>\n",
       "    </tr>\n",
       "    <tr>\n",
       "      <th>maskBRIGHTSTAR</th>\n",
       "      <td>26816.0</td>\n",
       "      <td>2.602002</td>\n",
       "      <td>93.928998</td>\n",
       "      <td>6.071002</td>\n",
       "    </tr>\n",
       "  </tbody>\n",
       "</table>\n",
       "</div>"
      ],
      "text/plain": [
       "                 drop_r  drop_r_per  PSF_r_per  NOPSF_r_per\n",
       "maskNOBS         1288.0    0.124977  62.422360    37.577640\n",
       "maskMAG             0.0    0.000000   0.000000     0.000000\n",
       "maskFRACMASKED  97763.0    9.486110  87.121917    12.878083\n",
       "maskFRACFLUX    31655.0    3.071539   6.760385    93.239615\n",
       "maskFRACIN      20423.0    1.981678   4.573275    95.426725\n",
       "maskFLUX_IVAR     512.0    0.049680  72.460938    27.539062\n",
       "mask_gr          4061.0    0.394046  29.967988    70.032012\n",
       "mask_rz          5830.0    0.565695  39.365352    60.634648\n",
       "maskBRIGHTSTAR  26816.0    2.602002  93.928998     6.071002"
      ]
     },
     "execution_count": 5,
     "metadata": {},
     "output_type": "execute_result"
    }
   ],
   "source": [
    "#dropped_2 = dropped.drop(['maskFLUX', 'maskMAG'])\n",
    "#dropped_2 = dropped_2.drop(['PSF_r_per', 'NOPSF_r_per'], axis=1)\n",
    "#dropped_2.columns = ['drop #', 'drop %']\n",
    "dropped"
   ]
  },
  {
   "cell_type": "code",
   "execution_count": 6,
   "metadata": {},
   "outputs": [
    {
     "data": {
      "image/png": "[encoded data removed]",
      "text/plain": [
       "<matplotlib.figure.Figure at 0x2ad43a5b58d0>"
      ]
     },
     "metadata": {},
     "output_type": "display_data"
    }
   ],
   "source": [
    "Mu = [[0 for x in range(len(matrix_out))] for y in range(len(matrix_out))] \n",
    "    \n",
    "from itertools import product\n",
    "for i,j in product(range(len(matrix_out)), range(len(matrix_out))):\n",
    "    Mu[i][j] = np.array(matrix_out)[i][i] - np.array(matrix_out)[i][j]\n",
    "    if i == j:\n",
    "        Mu[i][j] = np.array(matrix_out)[i][j]\n",
    "\n",
    "    #Mu[i][j] = 100 - 100*np.array(matrix_out)[i][j]/np.array(matrix_out)[i][i]\n",
    "    #if i == j:\n",
    "        #Mu[i][j] = 100*np.array(matrix_out)[i][j]/np.array(matrix_out)[i][i]\n",
    "                    \n",
    "#matrix_plot(np.array(matrix_out), np.array(matrix_out.index), np.array(matrix_out.columns))\n",
    "matrix_plot(Mu, np.array(matrix_out.index), np.array(matrix_out.columns))"
   ]
  },
  {
   "cell_type": "code",
   "execution_count": 7,
   "metadata": {},
   "outputs": [],
   "source": [
    "#df_Mu = pd.DataFrame(Mu, index=matrix_out.index, columns=matrix_out.columns)\n",
    "#bar_plot(df_Mu)"
   ]
  },
  {
   "cell_type": "code",
   "execution_count": 8,
   "metadata": {},
   "outputs": [
    {
     "name": "stdout",
     "output_type": "stream",
     "text": [
      "Objects out alone...\n",
      "FRACMASKED: 79584\n",
      "FRACFLUX: 22385\n",
      "BRIGHTSTAR: 16671\n",
      "Objects out together...\n",
      "FRACMASKED-FRACFLUX: 8836\n",
      "FRACMASKED-BRIGHTSTAR: 9711\n",
      "FRACFLUX-BRIGHTSTAR: 802\n",
      "FRACMASKED-FRACFLUX-BRIGHTSTAR: 368\n",
      "---------------------\n",
      "136885 objects out of a total 143360 = 95.48 %\n"
     ]
    },
    {
     "data": {
      "image/png": "[encoded data removed]",
      "text/plain": [
       "<matplotlib.figure.Figure at 0x2ad43a550d30>"
      ]
     },
     "metadata": {},
     "output_type": "display_data"
    }
   ],
   "source": [
    "venn_outs_125 = venn_plot(catr, cat, mask_list_MAG, 1, 2, 5, ('FRACMASKED', 'FRACFLUX', 'BRIGHTSTAR'), pos='out', title='OUT')"
   ]
  },
  {
   "cell_type": "code",
   "execution_count": 9,
   "metadata": {},
   "outputs": [],
   "source": [
    "#catr['RA', 'DEC'][venn_outs_125['FRACFLUX']]"
   ]
  },
  {
   "cell_type": "code",
   "execution_count": 10,
   "metadata": {},
   "outputs": [
    {
     "name": "stdout",
     "output_type": "stream",
     "text": [
      "Objects out alone...\n",
      "FRACMASKED: 85529\n",
      "FRACFLUX: 13032\n",
      "FRACIN: 5039\n",
      "Objects out together...\n",
      "FRACMASKED-FRACFLUX: 8836\n",
      "FRACMASKED-FRACIN: 5597\n",
      "FRACFLUX-FRACIN: 11986\n",
      "FRACMASKED-FRACFLUX-FRACIN: 2199\n",
      "---------------------\n",
      "123422 objects out of a total 143360 = 86.09 %\n"
     ]
    },
    {
     "data": {
      "image/png": "[encoded data removed]",
      "text/plain": [
       "<matplotlib.figure.Figure at 0x2ad43a5ef630>"
      ]
     },
     "metadata": {},
     "output_type": "display_data"
    }
   ],
   "source": [
    "venn_outs_123 = venn_plot(catr, cat, mask_list_MAG, 1, 2, 3, ('FRACMASKED', 'FRACFLUX', 'FRACIN'), pos='out', title='OUT')"
   ]
  },
  {
   "cell_type": "code",
   "execution_count": 11,
   "metadata": {},
   "outputs": [
    {
     "name": "stdout",
     "output_type": "stream",
     "text": [
      "Objects out alone...\n",
      "NOBS: 18\n",
      "FRACIN: 19144\n",
      "FLUX_IVAR: 13\n",
      "Objects out together...\n",
      "NOBS-FRACIN: 1270\n",
      "NOBS-FLUX_IVAR: 490\n",
      "FRACIN-FLUX_IVAR: 499\n",
      "NOBS-FRACIN-FLUX_IVAR: 490\n",
      "---------------------\n",
      "19964 objects out of a total 143360 = 13.93 %\n"
     ]
    },
    {
     "data": {
      "image/png": "[encoded data removed]",
      "text/plain": [
       "<matplotlib.figure.Figure at 0x2ad43a38bc50>"
      ]
     },
     "metadata": {},
     "output_type": "display_data"
    }
   ],
   "source": [
    "venn_outs_034 = venn_plot(catr, cat, mask_list_MAG,0, 3, 4, ('NOBS', 'FRACIN', 'FLUX_IVAR'), pos='out', title='OUT')"
   ]
  },
  {
   "cell_type": "code",
   "execution_count": 12,
   "metadata": {},
   "outputs": [
    {
     "name": "stdout",
     "output_type": "stream",
     "text": [
      "Objects out alone...\n",
      "FRACIN: 17672\n",
      "FLUX_IVAR: 0\n",
      "gr-rz: 4904\n",
      "Objects out together...\n",
      "FRACIN-FLUX_IVAR: 499\n",
      "FRACIN-gr-rz: 2751\n",
      "FLUX_IVAR-gr-rz: 512\n",
      "FRACIN-FLUX_IVAR-gr-rz: 499\n",
      "---------------------\n",
      "24841 objects out of a total 143360 = 17.33 %\n"
     ]
    },
    {
     "data": {
      "image/png": "[encoded data removed]",
      "text/plain": [
       "<matplotlib.figure.Figure at 0x2ad43a620cc0>"
      ]
     },
     "metadata": {},
     "output_type": "display_data"
    }
   ],
   "source": [
    "venn_outs_346 = venn_plot(catr, cat, mask_list_MAG,3, 4, 6, ( 'FRACIN', 'FLUX_IVAR', 'gr-rz'), pos='out', title='OUT')"
   ]
  },
  {
   "cell_type": "code",
   "execution_count": null,
   "metadata": {},
   "outputs": [
    {
     "name": "stdout",
     "output_type": "stream",
     "text": [
      "Objects out alone...\n",
      "FRACMASKED: 18279\n",
      "FRACIN: 6438\n",
      "gr-rz: 3527\n",
      "Objects out together...\n",
      "FRACMASKED-FRACIN: 11986\n",
      "FRACMASKED-gr-rz: 2142\n",
      "FRACIN-gr-rz: 2751\n",
      "FRACMASKED-FRACIN-gr-rz: 752\n",
      "---------------------\n",
      "42867 objects out of a total 143360 = 29.90 %\n"
     ]
    },
    {
     "data": {
      "image/png": "[encoded data removed]",
      "text/plain": [
       "<matplotlib.figure.Figure at 0x2ad43a689c18>"
      ]
     },
     "metadata": {},
     "output_type": "display_data"
    }
   ],
   "source": [
    "venn_outs_236 = venn_plot(catr, cat, mask_list_MAG,2,3, 6, ( 'FRACMASKED', 'FRACIN', 'gr-rz'), pos='out', title='OUT')"
   ]
  },
  {
   "cell_type": "markdown",
   "metadata": {},
   "source": []
  },
  {
   "cell_type": "markdown",
   "metadata": {},
   "source": [
    "### Drops in SKY"
   ]
  },
  {
   "cell_type": "code",
   "execution_count": null,
   "metadata": {},
   "outputs": [
    {
     "name": "stdout",
     "output_type": "stream",
     "text": [
      "97763\n"
     ]
    }
   ],
   "source": [
    "for x in (1,2,3,5,6):\n",
    "    \n",
    "    plt.figure(figsize=(25.71, 6))\n",
    "    \n",
    "    mask_FRAC = [not i for i in mask_list_MAG[x]]\n",
    "    print(len(catr[mask_FRAC]))\n",
    "    plt.title(matrix_out.columns[x])\n",
    "    plt.scatter(catr[mask_FRAC]['RA'], catr[mask_FRAC]['DEC'], s=0.2)\n",
    "    plt.xlabel('RA')\n",
    "    plt.ylabel('DEC')\n",
    "    plt.show()"
   ]
  },
  {
   "cell_type": "markdown",
   "metadata": {},
   "source": [
    "### PSFSIEZE test"
   ]
  },
  {
   "cell_type": "code",
   "execution_count": null,
   "metadata": {},
   "outputs": [],
   "source": [
    "def psfsize_plot(cat, band=('R')):\n",
    "    \n",
    "    psfsize = np.linspace(cat['PSFSIZE_R'].min(), cat['PSFSIZE_R'].max(), 80)\n",
    "    NPSF = cat[cat['TYPE'] == b'PSF ']\n",
    "\n",
    "    plt.figure(figsize=(10, 8))\n",
    "\n",
    "    for j in band:\n",
    "        NPSF_NTOT = np.zeros(len(psfsize), 'float')\n",
    "        for i in range(len(psfsize)-1):\n",
    "            if len(cat[cat['PSFSIZE_'+j] < psfsize[i]]) == 0:\n",
    "                NPSF_NTOT[i] = 0\n",
    "            else:\n",
    "                NPSF_NTOT[i] = len(NPSF[NPSF['PSFSIZE_'+j] < psfsize[i]])/len(cat[cat['PSFSIZE_'+j] < psfsize[i]])\n",
    "            \n",
    "        plt.plot(psfsize, NPSF_NTOT, linewidth=2, label=r'PSFSIZE_'+j)\n",
    "\n",
    "        plt.xlabel(r'PSFSIZE')\n",
    "        plt.ylabel(r'N(GAIA_GAL+PSF)/N(GAIA_GAL)')\n",
    "        plt.legend()\n",
    "        print('band %s done...' %(j))\n",
    "        \n",
    "    plt.show()"
   ]
  },
  {
   "cell_type": "code",
   "execution_count": null,
   "metadata": {},
   "outputs": [],
   "source": [
    "psfsize_plot(cat, band=('G', 'R', 'Z'))"
   ]
  },
  {
   "cell_type": "markdown",
   "metadata": {},
   "source": [
    "### z-w1-(g-r) Vs g-r for 0.6 > Grr "
   ]
  },
  {
   "cell_type": "code",
   "execution_count": null,
   "metadata": {},
   "outputs": [],
   "source": [
    "def zw1_gr(cat, Grr_min, Grr_max):\n",
    "    \n",
    "    GAIA_STAR = cat[np.logical_and(cat['Grr'] < Grr_max, cat['Grr'] > Grr_min)]\n",
    "    g, r, z, w1, G, rr = get_mag_decals(GAIA_STAR)\n",
    "    GAIA_STARup =GAIA_STAR[z - w1 - (g - r) > -0.5]\n",
    "    GAIA_STARdown =GAIA_STAR[z - w1 - (g - r) < -0.5]\n",
    "\n",
    "    g1, r1, z1, w11, G1, rr1 = get_mag_decals(GAIA_STARup)\n",
    "    g2, r2, z2, w12, G2, rr2 = get_mag_decals(GAIA_STARdown)\n",
    "\n",
    "    #GAIA ULTIMATE STARS UP\n",
    "    gr_psf_up = g1[GAIA_STARup['TYPE'] == b'PSF '] - r1[GAIA_STARup['TYPE'] == b'PSF ']\n",
    "    zw_psf_up = z1[GAIA_STARup['TYPE'] == b'PSF '] - w11[GAIA_STARup['TYPE'] == b'PSF '] - (gr_psf_up)\n",
    "    gr_nopsf_up = g1[GAIA_STARup['TYPE'] != b'PSF '] - r1[GAIA_STARup['TYPE'] != b'PSF ']\n",
    "    zw_nopsf_up = z1[GAIA_STARup['TYPE'] != b'PSF '] - w11[GAIA_STARup['TYPE'] != b'PSF '] - (gr_nopsf_up)\n",
    "    #GAIA ULTIMATE STARS DOWN\n",
    "    gr_psf_down = g2[GAIA_STARdown['TYPE'] == b'PSF '] - r2[GAIA_STARdown['TYPE'] == b'PSF ']\n",
    "    zw_psf_down = z2[GAIA_STARdown['TYPE'] == b'PSF '] - w12[GAIA_STARdown['TYPE'] == b'PSF '] - (gr_psf_down)\n",
    "    gr_nopsf_down = g2[GAIA_STARdown['TYPE'] != b'PSF '] - r2[GAIA_STARdown['TYPE'] != b'PSF ']\n",
    "    zw_nopsf_down = z2[GAIA_STARdown['TYPE'] != b'PSF '] - w12[GAIA_STARdown['TYPE'] != b'PSF '] - (gr_nopsf_down)\n",
    "\n",
    "    plt.figure(figsize=(10, 10))\n",
    "\n",
    "    plt.scatter(gr_psf_up, zw_psf_up, s=0.01, color='green', label = r'cat & PSF > -0.5, N=%g' %(len(zw_psf_up)))\n",
    "    plt.scatter(gr_psf_down, zw_psf_down, s=0.01, color='red', label = r'cat & PSF < -0.5, N=%g' %(len(zw_psf_down)))\n",
    "    \n",
    "    if len(zw_nopsf_up) > 800:\n",
    "        s1 = 0.03\n",
    "    else:\n",
    "        s1 = 0.5\n",
    "        \n",
    "    if len(zw_nopsf_down) > 800:\n",
    "        s2 = 0.03\n",
    "    else:\n",
    "        s2 = 0.5\n",
    "    \n",
    "    plt.scatter(gr_nopsf_up, zw_nopsf_up, s=s1, color='blue', label = r'cat & Non-PSF > -0.5, N=%g' %(len(zw_nopsf_up)))\n",
    "    plt.scatter(gr_nopsf_down, zw_nopsf_down, s=s2, color='blue', label = r'cat & Non-PSF < -0.5, N=%g' %(len(zw_nopsf_down)))\n",
    "    plt.axhline(-0.5)\n",
    "\n",
    "    plt.xlabel(r'g-r')\n",
    "    plt.ylabel(r'z-W-(g-r)')\n",
    "    plt.title(r'%2.2f > Grr > %2.2f ' %(Grr_max, Grr_min))\n",
    "    #plt.grid()\n",
    "    plt.xlim(-1.3, 3.3)\n",
    "    plt.ylim(-6.3, 4.3)\n",
    "    lgnd = plt.legend()\n",
    "    for handle in lgnd.legendHandles:\n",
    "        handle.set_sizes([14.0])\n",
    "    \n",
    "    plt.show()"
   ]
  },
  {
   "cell_type": "code",
   "execution_count": null,
   "metadata": {},
   "outputs": [],
   "source": [
    "zw1_gr(cat, -1, 0.4)"
   ]
  },
  {
   "cell_type": "code",
   "execution_count": null,
   "metadata": {},
   "outputs": [],
   "source": [
    "zw1_gr(cat, 0.4, 0.6)"
   ]
  },
  {
   "cell_type": "code",
   "execution_count": null,
   "metadata": {},
   "outputs": [],
   "source": [
    "zw1_gr(cat, 0.6, 6)"
   ]
  },
  {
   "cell_type": "markdown",
   "metadata": {},
   "source": [
    "### DESI_TARGET and BGS_TARGET content"
   ]
  },
  {
   "cell_type": "markdown",
   "metadata": {},
   "source": [
    "### G-r Vs g-z"
   ]
  },
  {
   "cell_type": "code",
   "execution_count": null,
   "metadata": {},
   "outputs": [],
   "source": [
    "#G-r vs g-z\n",
    "#del gmag, rmag, zmag, w1mag, Gmag\n",
    "gmag, rmag, zmag, w1mag, Gmag, rr = get_mag_decals(cat)\n",
    "\n",
    "Grr = cat['Grr'] #Gmag - rr  #rr is without extinction correction\n",
    "Gmag = cat['GAIA_PHOT_G_MEAN_MAG']\n",
    "\n",
    "star = cat['TYPE'] == b'PSF ' \n",
    "galaxy = cat['TYPE'] != b'PSF '\n",
    "maskt = Gmag != 0\n",
    "print('All matchs with GAIA in the sample:',len(cat[maskt]))\n",
    "\n",
    "plt.figure(figsize=(10, 10))\n",
    "\n",
    "plt.scatter(gmag[(star) & (maskt)] - zmag[(star) & (maskt)], Gmag[(star) & (maskt)] - rr[(star) & (maskt)], s=0.01, color='red', label = r'PSF, N=%g' %(len(gmag[(star) & (maskt)])))\n",
    "plt.scatter(gmag[(galaxy) & (maskt)] - zmag[(galaxy) & (maskt)], Gmag[(galaxy) & (maskt)] - rr[(galaxy) & (maskt)], s=0.01, color='blue', label = r'Non-PSF, N=%g' %(len(gmag[(galaxy) & (maskt)])))\n",
    "plt.axhline(0.6)\n",
    "\n",
    "plt.xlabel(r'g-z')\n",
    "plt.ylabel(r'G-rr')\n",
    "plt.title(r'G != 0')\n",
    "plt.grid()\n",
    "lgnd = plt.legend(fontsize=10)\n",
    "for handle in lgnd.legendHandles:\n",
    "    handle.set_sizes([10.0])\n",
    "plt.show()"
   ]
  },
  {
   "cell_type": "markdown",
   "metadata": {},
   "source": [
    "#### STAR-GALAXY with GAIA:\n",
    "\n",
    "* GAIA\\_GAL = np.concatenate((cat[Grr $>$ 0.6], cat[Gmag == 0])) \n",
    "\n",
    "* GAIA\\_STAR = cat[(Grr $<$ 0.6) & (Gmag != 0)]\n",
    "\n",
    "#### STAR-GALAXY with DECaLS DR7:\n",
    "\n",
    "* DECALS\\_GAL = cat[cat['TYPE'] != b'PSF ']\n",
    "\n",
    "* DECALS\\_STAR = cat[cat['TYPE'] == b'PSF '] "
   ]
  },
  {
   "cell_type": "markdown",
   "metadata": {},
   "source": [
    "### r-z Vs g-r "
   ]
  },
  {
   "cell_type": "code",
   "execution_count": null,
   "metadata": {},
   "outputs": [],
   "source": [
    "#r-z vs g-r\n",
    "\n",
    "cat_bgs = np.concatenate((cat[Grr > 0.6], cat[Gmag == 0]))\n",
    "print('cat with Grr > 0.6:',len(cat[Grr > 0.6]))\n",
    "print('cat with Gmag = 0:',len(cat[Gmag == 0]))\n",
    "print('concatenate cat:', len(cat_bgs))\n",
    "\n",
    "g, r, z, w1, G, rr = get_mag_decals(cat_bgs)\n",
    "\n",
    "Gstar = G[cat_bgs['TYPE'] == b'PSF ']\n",
    "Ggalaxy = G[cat_bgs['TYPE'] != b'PSF ']\n",
    "\n",
    "gr_star = g[cat_bgs['TYPE'] == b'PSF '] - r[cat_bgs['TYPE'] == b'PSF ']\n",
    "rz_star = r[cat_bgs['TYPE'] == b'PSF '] - z[cat_bgs['TYPE'] == b'PSF ']\n",
    "gr_galaxy = g[cat_bgs['TYPE'] != b'PSF '] - r[cat_bgs['TYPE'] != b'PSF ']\n",
    "rz_galaxy = r[cat_bgs['TYPE'] != b'PSF '] - z[cat_bgs['TYPE'] != b'PSF ']\n",
    "\n",
    "#del g1, r1, z1, w11, G1, g, r, z, w1, G, GAIA_STAR\n",
    "mask_star = np.logical_and(Grr < 0.4, Grr > -1)\n",
    "GAIA_STAR = cat[mask_star]\n",
    "g, r, z, w1, G, rr = get_mag_decals(GAIA_STAR)\n",
    "GAIA_STARup =GAIA_STAR[(z - w1 - (g - r) > -0.5) & (GAIA_STAR['FLUX_W1']*np.sqrt(GAIA_STAR['FLUX_IVAR_W1']) > 5)]\n",
    "g1, r1, z1, w11, G1, rr1 = get_mag_decals(GAIA_STARup)\n",
    "\n",
    "plt.figure(figsize=(10, 10))\n",
    "\n",
    "plt.scatter(gr_galaxy, rz_galaxy, s=0.01, color='green', label = r'Grr>0.6 & non-PSF, N=%g' %(len(gr_galaxy)))\n",
    "plt.scatter(g1 - r1, r1 - z1, s=0.1, color='cyan', label = r'Grr<0.4 & zw-gr>-0.5 & W1SN>5 %#i' %(len(g1)))\n",
    "plt.scatter(gr_star[Gstar != 0], rz_star[Gstar != 0], s=0.8, color='red', label = r'Grr>0.6 & PSF & G != 0, N=%g' %(len(gr_star[Gstar != 0])))\n",
    "plt.scatter(gr_star[Gstar == 0], rz_star[Gstar == 0], s=0.8, color='blue', label = r'Grr>0.6 & PSF & G==0, N=%g' %(len(gr_star[Gstar == 0])))\n",
    "\n",
    "#plt.scatter(gmag[Gmag == 0] - rmag[Gmag == 0], rmag[Gmag == 0] - zmag[Gmag == 0], s=0.1, color='red')\n",
    "#plt.scatter(gmag[Grr > 0.9] - rmag[Grr > 0.9], rmag[Grr > 0.9] - zmag[Grr > 0.9], s=0.1, color='black')\n",
    "plt.xlabel(r'g-r')\n",
    "plt.ylabel(r'r-z')\n",
    "#plt.title(r'Grr > 0.6 & !GAIA')\n",
    "plt.title(r'BGS')\n",
    "plt.xlim(-1, 2.8)\n",
    "plt.ylim(-1.5, 3)\n",
    "plt.grid()\n",
    "lgnd = plt.legend()\n",
    "for handle in lgnd.legendHandles:\n",
    "    handle.set_sizes([10.0])\n",
    "plt.show()\n"
   ]
  },
  {
   "cell_type": "code",
   "execution_count": null,
   "metadata": {},
   "outputs": [],
   "source": [
    "len(GAIA_STAR)"
   ]
  },
  {
   "cell_type": "code",
   "execution_count": null,
   "metadata": {},
   "outputs": [],
   "source": [
    "# r-z vs g-r\n",
    "#Grr = Gmag - rmag\n",
    "GAIA_GAL = np.concatenate((cat[Grr > 0.6], cat[Gmag == 0]))\n",
    "GAIA_STAR = cat[(Grr  <  0.6) & (Gmag != 0)]\n",
    "\n",
    "g1, r1, z1, w11, G1, rr1 = get_mag_decals(GAIA_GAL)\n",
    "g2, r2, z2, w12, G2, rr2 = get_mag_decals(GAIA_STAR)\n",
    "\n",
    "#GAIA GALAXIES\n",
    "gr_GAL_psf = g1[GAIA_GAL['TYPE'] == b'PSF '] - r1[GAIA_GAL['TYPE'] == b'PSF ']\n",
    "rz_GAL_psf = r1[GAIA_GAL['TYPE'] == b'PSF '] - z1[GAIA_GAL['TYPE'] == b'PSF ']\n",
    "gr_GAL_nopsf = g1[GAIA_GAL['TYPE'] != b'PSF '] - r1[GAIA_GAL['TYPE'] != b'PSF ']\n",
    "rz_GAL_nopsf = r1[GAIA_GAL['TYPE'] != b'PSF '] - z1[GAIA_GAL['TYPE'] != b'PSF ']\n",
    "\n",
    "#GAIA STARS\n",
    "gr_STAR_psf = g2[GAIA_STAR['TYPE'] == b'PSF '] - r2[GAIA_STAR['TYPE'] == b'PSF ']\n",
    "rz_STAR_psf = r2[GAIA_STAR['TYPE'] == b'PSF '] - z2[GAIA_STAR['TYPE'] == b'PSF ']\n",
    "gr_STAR_nopsf = g2[GAIA_STAR['TYPE'] != b'PSF '] - r2[GAIA_STAR['TYPE'] != b'PSF ']\n",
    "rz_STAR_nopsf = r2[GAIA_STAR['TYPE'] != b'PSF '] - z2[GAIA_STAR['TYPE'] != b'PSF ']\n",
    "\n",
    "plt.figure(figsize=(10, 10))\n",
    "\n",
    "#plt.scatter(gr_GAL_nopsf, rz_GAL_nopsf, s=0.01, color='blue', label = r'GAIA_GAL & non-PSF, N=%g' %(len(gr_GAL_nopsf)))\n",
    "#plt.scatter(gr_GAL_psf, rz_GAL_psf, s=0.08, color='red', label = r'GAIA_GAL & PSF, N=%g' %(len(gr_GAL_psf)))\n",
    "\n",
    "plt.scatter(gr_STAR_psf, rz_STAR_psf, s=0.01, color='red', label = r'GAIA_STAR & PSF, N=%g' %(len(gr_STAR_psf)))\n",
    "plt.scatter(gr_STAR_nopsf, rz_STAR_nopsf, s=0.8, color='blue', label = r'GAIA_STAR & non-PSF, N=%g' %(len(gr_STAR_nopsf)))\n",
    "\n",
    "plt.xlabel(r'g-r')\n",
    "plt.ylabel(r'r-z')\n",
    "#plt.title(r'')\n",
    "#plt.grid()\n",
    "plt.xlim(-1, 2.8)\n",
    "plt.ylim(-1.5, 3.5)\n",
    "lgnd = plt.legend()\n",
    "for handle in lgnd.legendHandles:\n",
    "    handle.set_sizes([10.0])\n",
    "plt.show()"
   ]
  },
  {
   "cell_type": "code",
   "execution_count": null,
   "metadata": {},
   "outputs": [],
   "source": [
    "def target_con(df, NAME):\n",
    "    \n",
    "    target_desi = (\"BGS_ANY\", \"QSO\", \"LRG\", \"ELG\", \"BAD_SKY\", \"NO_TARGET\", \"BRIGHT_OBJECT\", \"MWS_ANY\", \"STD_BRIGHT\", \"STD_FAINT\", \"IN_BRIGHT_OBJECT\", \"NEAR_BRIGHT_OBJECT\")\n",
    "    target_bgs = (\"BGS_FAINT\", \"BGS_BRIGHT\")\n",
    "    print('Total #%s: %g'%(NAME,len(df)))\n",
    "    print('desitarget matches: %g -- bgstarget matches: %g'%(len(df[df['desitarget'] != 0]) ,len(df[df['bgstarget'] != 0])))\n",
    "    print('Of which...')\n",
    "    target_l = []\n",
    "    for i in target_desi:\n",
    "        \n",
    "        target_per = len(df[((np.uint64(df['desitarget']) & np.uint64(desi_mask[i]))!=0)])\n",
    "        if target_per == 0:\n",
    "            continue\n",
    "        print('%s: %2.4g %%' %(i, 100*target_per/len(df)))\n",
    "        target_l.append([i, 100*target_per/len(df)])\n",
    "        \n",
    "    for i in target_bgs:\n",
    "        \n",
    "        target_per = len(df[((np.uint64(df['bgstarget']) & np.uint64(bgs_mask[i]))!=0)])\n",
    "        if target_per == 0:\n",
    "            continue\n",
    "        print('%s: %2.4g %%' %(i, 100*target_per/len(df)))\n",
    "        target_l.append([i, 100*target_per/len(df)])\n",
    "    \n",
    "    print('%s: %2.4g %%' %('G==0', 100*len(df[df['GAIA_PHOT_G_MEAN_MAG'] == 0])/len(df)))\n",
    "    target_l.append(['G==0', 100*len(df[df['GAIA_PHOT_G_MEAN_MAG'] == 0])/len(df)])\n",
    "    print('%s: %2.4g %%' %('PSF', 100*len(df[df['TYPE'] == b'PSF '])/len(df)))\n",
    "    target_l.append(['PSF', 100*len(df[df['TYPE'] == b'PSF '])/len(df)])\n",
    "    print('%s: %2.4g %%' %('no-PSF', 100*len(df[df['TYPE'] != b'PSF '])/len(df)))\n",
    "    target_l.append(['no-PSF', 100*len(df[df['TYPE'] != b'PSF '])/len(df)])\n",
    "    print('%s: %2.4g %%' %('desitarget non matches', 100*len(df[df['desitarget'] == 0])/len(df)))\n",
    "    target_l.append(['desitarget non matches', 100*len(df[df['desitarget'] == 0])/len(df)])\n",
    "    print('%s: %2.4g %%' %('bgstarget non matches', 100*len(df[df['bgstarget'] == 0])/len(df)))\n",
    "    target_l.append(['bgstarget non matches', 100*len(df[df['bgstarget'] == 0])/len(df)])\n",
    "    \n",
    "    return target_l"
   ]
  },
  {
   "cell_type": "code",
   "execution_count": null,
   "metadata": {},
   "outputs": [],
   "source": [
    "target_cat_bgs = target_con(cat_bgs, 'Grr > 0.6 Or G==0')"
   ]
  },
  {
   "cell_type": "code",
   "execution_count": null,
   "metadata": {},
   "outputs": [],
   "source": [
    "target_GAIA_STAR = target_con(GAIA_STAR, 'Grr < 0.6 + G!=0')"
   ]
  },
  {
   "cell_type": "code",
   "execution_count": null,
   "metadata": {},
   "outputs": [],
   "source": [
    "target_WISE = target_con(GAIA_STARup, 'Grr<0.4 & zw-gr>-0.5 & W1SN>5')"
   ]
  },
  {
   "cell_type": "code",
   "execution_count": null,
   "metadata": {},
   "outputs": [],
   "source": [
    "#Save catalogue for visualization in yymao:https://yymao.github.io/decals-image-list-tool/\n",
    "t_psf= Table()\n",
    "t_nopsf= Table()\n",
    "CAT_PSF = cat_bgs[cat_bgs['TYPE'] == b'PSF ']\n",
    "CAT_NOPSF = GAIA_STAR[GAIA_STAR['TYPE'] != b'PSF ']\n",
    "t_psf['ra'] = CAT_PSF['RA']\n",
    "t_psf['dec'] = CAT_PSF['DEC']\n",
    "t_nopsf['ra'] = CAT_NOPSF['RA']\n",
    "t_nopsf['dec'] = CAT_NOPSF['DEC']\n",
    "ascii.write(t_nopsf[:300], 'separation_NOPSF.dat', overwrite=True)\n",
    "ascii.write(t_psf[:300], 'separation_PSF.dat', overwrite=True)"
   ]
  },
  {
   "cell_type": "markdown",
   "metadata": {},
   "source": [
    "## The differences between GAIA and DECaLS BGS classification\n",
    "\n",
    "* GAIA_GAL + PSF: Compared to the OLD DECaLS classification, this are the new additional objects that get into the New BGS selection.\n",
    "\n",
    "* GAIA_STAR + no-PSF: Compared to the OLD DECaLS classification, this are the objects that no loonger take part in the New BGS selection.\n",
    "\n",
    "This means:\n",
    "\n",
    "    BGS_GAIA = BGS_DECaLS + GAIA_GAL+PSF - GAIA_STAR+NoPSF"
   ]
  },
  {
   "cell_type": "code",
   "execution_count": null,
   "metadata": {},
   "outputs": [],
   "source": [
    "N_BGS_D = len(cat[cat['TYPE'] != b'PSF '])\n",
    "N_BGS_G = len(GAIA_GAL)\n",
    "print('BGS_GAIA(%i) = BGS_DECaLS(%i) + GAIA_GAL+PSF(%i) - GAIA_STAR+NoPSF(%i)' %(N_BGS_G, N_BGS_D,len(GAIA_GAL[GAIA_GAL['TYPE'] == b'PSF ']), len(GAIA_STAR[GAIA_STAR['TYPE'] != b'PSF '])))\n",
    "DIFF = N_BGS_G == N_BGS_D + len(GAIA_GAL[GAIA_GAL['TYPE'] == b'PSF ']) - len(GAIA_STAR[GAIA_STAR['TYPE'] != b'PSF '])\n",
    "\n",
    "if DIFF:\n",
    "    print('EVERYTHING MATCH ALRIGHT!')\n",
    "else:\n",
    "    print('OPS! SOMETHING DONT MATCH!')"
   ]
  },
  {
   "cell_type": "code",
   "execution_count": null,
   "metadata": {},
   "outputs": [],
   "source": [
    "plt.figure(figsize=(10, 10))\n",
    "bgs_old = cat['TYPE'] != b'PSF '\n",
    "gaia_star = GAIA_STAR['TYPE'] != b'PSF '\n",
    "gaia_gal = GAIA_GAL['TYPE'] == b'PSF '\n",
    "\n",
    "plt.scatter(gmag[bgs_old] - rmag[bgs_old], rmag[bgs_old] - zmag[bgs_old], s=0.01, color='black', label = r'BGS_DECaLS (keeping in NEW) %#i' %(len(cat[bgs_old])))\n",
    "plt.scatter(g1[gaia_gal] - r1[gaia_gal], r1[gaia_gal] - z1[gaia_gal], s=0.4, color='blue', label = r'GAIA_GAL+PSF (Adding in NEW)  %#i' %(len(z1[gaia_gal])))\n",
    "plt.scatter(g2[gaia_star] - r2[gaia_star], r2[gaia_star] - z2[gaia_star], s=0.8, color='red', label = r'GAIA_STAR+noPSF (Throwing in NEW)  %#i' %(len(z2[gaia_star])))\n",
    "plt.text(-0.8, 2.8, r'BGS_GAIA = BGS_DECaLS + GAIA_GAL+PSF - GAIA_STAR+NoPSF')\n",
    "\n",
    "plt.xlabel(r'g-r')\n",
    "plt.ylabel(r'r-z')\n",
    "#plt.title(r'Grr > 0.6 & !GAIA')\n",
    "plt.title(r'comparisons between BGS with DECaLS (OLD) and BGS with GAIA (NEW)')\n",
    "plt.xlim(-1, 2.8)\n",
    "plt.ylim(-1.5, 3)\n",
    "plt.grid()\n",
    "lgnd = plt.legend()\n",
    "plt.show()"
   ]
  },
  {
   "cell_type": "code",
   "execution_count": null,
   "metadata": {},
   "outputs": [],
   "source": [
    "plt.figure(figsize=(10,8))\n",
    "plt.scatter(t_psf['ra'], t_psf['dec'], s=2, color='red', label = r'GAIA GAL + PSF, N=%g' %(len(t_psf)))\n",
    "plt.scatter(t_nopsf['ra'], t_nopsf['dec'], s=2, color='blue', label = r'GAIA STAR + NOPSF, N=%g' %(len(t_nopsf)))\n",
    "plt.legend()"
   ]
  },
  {
   "cell_type": "code",
   "execution_count": null,
   "metadata": {},
   "outputs": [],
   "source": [
    "#CAT_PSF is just GAIA GAL & PSF\n",
    "#CAT_NOPSF is GAIA STAR & NoPSF\n",
    "\n",
    "bins = np.linspace(0.95, 2.5, 50)\n",
    "bands = ('R', 'G', 'Z')\n",
    "for i in bands:\n",
    "    plt.figure(figsize=(12, 7))\n",
    "    plt.hist(CAT_PSF['PSFSIZE_'+i], bins=bins, label=r'GAIA GAL & PSF')\n",
    "    plt.hist(CAT_NOPSF['PSFSIZE_'+i], bins=bins, label=r'GAIA STAR & No-PSF')\n",
    "    plt.xlabel(r'PSFSIZE_'+i)\n",
    "    plt.legend()\n",
    "    plt.show()"
   ]
  },
  {
   "cell_type": "markdown",
   "metadata": {},
   "source": [
    "## DESI_TARGET and BGS_TARGET"
   ]
  },
  {
   "cell_type": "code",
   "execution_count": null,
   "metadata": {},
   "outputs": [],
   "source": [
    "target_CAT_NOPSF = target_con(CAT_NOPSF, 'GAIA STAR + NOPSF')"
   ]
  },
  {
   "cell_type": "code",
   "execution_count": null,
   "metadata": {},
   "outputs": [],
   "source": [
    "target_CAT_PSF = target_con(CAT_PSF, 'GAIA GAL + PSF')"
   ]
  },
  {
   "cell_type": "markdown",
   "metadata": {},
   "source": [
    "### Ratio of galaxies and Stars defined by GAIA and DECaLS"
   ]
  },
  {
   "cell_type": "code",
   "execution_count": null,
   "metadata": {},
   "outputs": [],
   "source": [
    "r_tmp = np.linspace(15.01,20,40)\n",
    "frac_gal = np.zeros(len(r_tmp), dtype='f8')\n",
    "frac_star = frac_gal.copy()\n",
    "frac_decals_gal = frac_gal.copy()\n",
    "frac_decals_star = frac_gal.copy()\n",
    "frac_gaia_gal = frac_gal.copy()\n",
    "frac_gaia_star = frac_gal.copy()\n",
    "\n",
    "del g,r,z, w1, G, rr\n",
    "g, r, z, w1, G, rr = get_mag_decals(cat)\n",
    "j = 0\n",
    "for i in r_tmp:\n",
    "    #DECALS_GAL = cat[cat['TYPE'] != b'PSF ']\n",
    "    #DECALS_STAR = cat[cat['TYPE'] == b'PSF ']\n",
    "    #DECALS_GAL = cat[r <= i]\n",
    "    #DECALS_STAR = cat[r <= i]\n",
    "    \n",
    "    Ntot = len(cat[r <= i])\n",
    "    NDECALS_GAL = len(cat[(cat['TYPE'] != b'PSF ') & (r <= i)])\n",
    "    NDECALS_STAR = len(cat[(cat['TYPE'] == b'PSF ') & (r <= i)])\n",
    "    NGAIA_GAL = len(GAIA_GAL[r1 <= i])\n",
    "    NGAIA_STAR = len(GAIA_STAR[r2 <= i])\n",
    "    \n",
    "    frac_gal[j] = NDECALS_GAL/NGAIA_GAL\n",
    "    frac_star[j] = NDECALS_STAR/NGAIA_STAR\n",
    "    frac_decals_gal[j] = NDECALS_GAL/Ntot\n",
    "    frac_decals_star[j] = NDECALS_STAR/Ntot\n",
    "    frac_gaia_gal[j] = NGAIA_GAL/Ntot\n",
    "    frac_gaia_star[j] = NGAIA_STAR/Ntot\n",
    "    \n",
    "    j = j + 1\n",
    "\n",
    "plt.figure(figsize=(10, 6))\n",
    "\n",
    "plt.axhline(1, color='red')\n",
    "plt.plot(r_tmp, frac_gal, marker='o', label=r'frac_gal')\n",
    "plt.plot(r_tmp, frac_star, marker='o', label=r'frac_star')\n",
    "\n",
    "plt.xlabel(r'r')\n",
    "plt.ylabel(r'$f$ (DECALS/GAIA)')\n",
    "lgnd = plt.legend()\n",
    "plt.show()\n",
    "\n",
    "plt.figure(figsize=(10, 6))\n",
    "\n",
    "plt.plot(r_tmp, frac_decals_gal, marker='o', label=r'frac_decals_gal')\n",
    "plt.plot(r_tmp, frac_decals_star, marker='o', label=r'frac_decals_star')\n",
    "plt.plot(r_tmp, frac_gaia_gal, linestyle='--', label=r'frac_gaia_gal')\n",
    "plt.plot(r_tmp, frac_gaia_star, linestyle='--', label=r'frac_gaia_star')\n",
    "\n",
    "plt.xlabel(r'r')\n",
    "plt.ylabel(r'$f$/Ntot')\n",
    "lgnd = plt.legend()\n",
    "plt.show()"
   ]
  },
  {
   "cell_type": "code",
   "execution_count": null,
   "metadata": {},
   "outputs": [],
   "source": [
    "print('GAIA_STAR + No-PSF content:')\n",
    "GAIA_STAR_TYPE = pd.DataFrame(GAIA_STAR['TYPE'])\n",
    "print(GAIA_STAR_TYPE[GAIA_STAR_TYPE != b'PSF ']['TYPE'].value_counts())\n",
    "print('---------------------------------')\n",
    "print('GAIA_GAL + PSF content:')\n",
    "GAIA_GAL_TYPE = pd.DataFrame(GAIA_GAL['TYPE'])\n",
    "print(GAIA_GAL_TYPE[GAIA_GAL_TYPE[0] == b'PSF '][0].value_counts())"
   ]
  }
 ],
 "metadata": {
  "kernelspec": {
   "display_name": "DESI 18.3",
   "language": "python",
   "name": "desi-18.3"
  },
  "language_info": {
   "codemirror_mode": {
    "name": "ipython",
    "version": 3
   },
   "file_extension": ".py",
   "mimetype": "text/x-python",
   "name": "python",
   "nbconvert_exporter": "python",
   "pygments_lexer": "ipython3",
   "version": "3.6.4"
  }
 },
 "nbformat": 4,
 "nbformat_minor": 2
}
